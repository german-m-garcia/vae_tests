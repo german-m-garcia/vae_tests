{
 "cells": [
  {
   "cell_type": "code",
   "execution_count": 13,
   "metadata": {
    "collapsed": false,
    "scrolled": true
   },
   "outputs": [
    {
     "name": "stdout",
     "output_type": "stream",
     "text": [
      "/home/martin/tensorflow/workspace/vae_tests/data_transformer/\n",
      "init\n",
      "readmesh\n",
      "createCam\n",
      "42\n",
      "0:00:00"
     ]
    },
    {
     "ename": "ValueError",
     "evalue": "a must be greater than 0",
     "output_type": "error",
     "traceback": [
      "\u001b[0;31m---------------------------------------------------------------------------\u001b[0m",
      "\u001b[0;31mValueError\u001b[0m                                Traceback (most recent call last)",
      "\u001b[0;32m<ipython-input-13-9d41f23c398e>\u001b[0m in \u001b[0;36m<module>\u001b[0;34m()\u001b[0m\n\u001b[1;32m     18\u001b[0m \u001b[0mprint\u001b[0m\u001b[0;34m(\u001b[0m\u001b[0mconfig\u001b[0m\u001b[0;34m.\u001b[0m\u001b[0mpath\u001b[0m\u001b[0;34m)\u001b[0m\u001b[0;34m\u001b[0m\u001b[0m\n\u001b[1;32m     19\u001b[0m \u001b[0mrender\u001b[0m \u001b[0;34m=\u001b[0m \u001b[0mRender\u001b[0m\u001b[0;34m.\u001b[0m\u001b[0mRenderDepthMesh\u001b[0m\u001b[0;34m(\u001b[0m\u001b[0mpath_mesh\u001b[0m \u001b[0;34m=\u001b[0m \u001b[0mconfig\u001b[0m\u001b[0;34m.\u001b[0m\u001b[0mpath_mesh\u001b[0m\u001b[0;34m,\u001b[0m \u001b[0mpath_output\u001b[0m \u001b[0;34m=\u001b[0m \u001b[0mconfig\u001b[0m\u001b[0;34m.\u001b[0m\u001b[0mpath\u001b[0m\u001b[0;34m,\u001b[0m \u001b[0mparam_tesselation_level\u001b[0m\u001b[0;34m=\u001b[0m\u001b[0mparam_tesselation_level\u001b[0m\u001b[0;34m,\u001b[0m \u001b[0mparam_radius_sphere\u001b[0m\u001b[0;34m=\u001b[0m\u001b[0mparam_radius_sphere\u001b[0m\u001b[0;34m,\u001b[0m \u001b[0mparam_resolution_x\u001b[0m\u001b[0;34m=\u001b[0m\u001b[0mparam_resolution_x\u001b[0m\u001b[0;34m,\u001b[0m \u001b[0mparam_resolution_y\u001b[0m\u001b[0;34m=\u001b[0m\u001b[0mparam_resolution_y\u001b[0m\u001b[0;34m,\u001b[0m \u001b[0mparam_view_angle\u001b[0m\u001b[0;34m=\u001b[0m\u001b[0mparam_view_angle\u001b[0m\u001b[0;34m,\u001b[0m \u001b[0mparam_resolution_angle\u001b[0m\u001b[0;34m=\u001b[0m\u001b[0mparam_resolution_angle\u001b[0m\u001b[0;34m)\u001b[0m\u001b[0;34m\u001b[0m\u001b[0m\n\u001b[0;32m---> 20\u001b[0;31m \u001b[0mrender\u001b[0m\u001b[0;34m.\u001b[0m\u001b[0mgenerate\u001b[0m\u001b[0;34m(\u001b[0m\u001b[0mname\u001b[0m\u001b[0;34m=\u001b[0m\u001b[0;34m'shelf'\u001b[0m\u001b[0;34m,\u001b[0m \u001b[0msaveImgs\u001b[0m\u001b[0;34m=\u001b[0m\u001b[0;32mTrue\u001b[0m\u001b[0;34m)\u001b[0m\u001b[0;34m\u001b[0m\u001b[0m\n\u001b[0m",
      "\u001b[0;32m/home/martin/tensorflow/workspace/vae_tests/render_depth_mesh.py\u001b[0m in \u001b[0;36mgenerate\u001b[0;34m(self, name, saveImgs)\u001b[0m\n\u001b[1;32m    856\u001b[0m         \u001b[0;31m#self.rendering()\u001b[0m\u001b[0;34m\u001b[0m\u001b[0;34m\u001b[0m\u001b[0m\n\u001b[1;32m    857\u001b[0m         \u001b[0mself\u001b[0m\u001b[0;34m.\u001b[0m\u001b[0mrendering_translate\u001b[0m\u001b[0;34m(\u001b[0m\u001b[0;34m)\u001b[0m\u001b[0;34m\u001b[0m\u001b[0m\n\u001b[0;32m--> 858\u001b[0;31m         \u001b[0;31m#self.rendering_translate_multiprocess(name, saveImgs)\u001b[0m\u001b[0;34m\u001b[0m\u001b[0;34m\u001b[0m\u001b[0m\n\u001b[0m\u001b[1;32m    859\u001b[0m         \u001b[0;31m#self.save(name, saveImgs)\u001b[0m\u001b[0;34m\u001b[0m\u001b[0;34m\u001b[0m\u001b[0m\n\u001b[1;32m    860\u001b[0m     \u001b[0;32mdef\u001b[0m \u001b[0mgenerate_num\u001b[0m\u001b[0;34m(\u001b[0m\u001b[0mself\u001b[0m\u001b[0;34m,\u001b[0m \u001b[0mname\u001b[0m\u001b[0;34m,\u001b[0m \u001b[0mnums\u001b[0m\u001b[0;34m,\u001b[0m \u001b[0msaveImgs\u001b[0m\u001b[0;34m=\u001b[0m\u001b[0;32mFalse\u001b[0m\u001b[0;34m)\u001b[0m\u001b[0;34m:\u001b[0m\u001b[0;34m\u001b[0m\u001b[0m\n",
      "\u001b[0;32m/home/martin/tensorflow/workspace/vae_tests/render_depth_mesh.py\u001b[0m in \u001b[0;36mrendering_translate_multiprocess\u001b[0;34m(self, name, saveImgs)\u001b[0m\n\u001b[1;32m    429\u001b[0m                 \u001b[0mprint\u001b[0m\u001b[0;34m(\u001b[0m\u001b[0mt_now\u001b[0m\u001b[0;34m-\u001b[0m\u001b[0mt_start\u001b[0m\u001b[0;34m,\u001b[0m\u001b[0mflush\u001b[0m\u001b[0;34m=\u001b[0m\u001b[0;32mTrue\u001b[0m\u001b[0;34m)\u001b[0m\u001b[0;34m\u001b[0m\u001b[0m\n\u001b[1;32m    430\u001b[0m \u001b[0;34m\u001b[0m\u001b[0m\n\u001b[0;32m--> 431\u001b[0;31m             \u001b[0;34m[\u001b[0m\u001b[0mlocal_depth_map\u001b[0m\u001b[0;34m,\u001b[0m \u001b[0mlocal_pose\u001b[0m\u001b[0;34m]\u001b[0m \u001b[0;34m=\u001b[0m \u001b[0mself\u001b[0m\u001b[0;34m.\u001b[0m\u001b[0mrendering_cam\u001b[0m\u001b[0;34m(\u001b[0m\u001b[0mi\u001b[0m\u001b[0;34m,\u001b[0m \u001b[0mn_view_up\u001b[0m\u001b[0;34m,\u001b[0m \u001b[0mn_translate\u001b[0m\u001b[0;34m)\u001b[0m\u001b[0;34m\u001b[0m\u001b[0m\n\u001b[0m\u001b[1;32m    432\u001b[0m             \u001b[0mtotal_depth_map\u001b[0m \u001b[0;34m=\u001b[0m \u001b[0mnp\u001b[0m\u001b[0;34m.\u001b[0m\u001b[0mvstack\u001b[0m\u001b[0;34m(\u001b[0m\u001b[0;34m(\u001b[0m\u001b[0mtotal_depth_map\u001b[0m\u001b[0;34m,\u001b[0m\u001b[0mlocal_depth_map\u001b[0m\u001b[0;34m)\u001b[0m\u001b[0;34m)\u001b[0m\u001b[0;34m\u001b[0m\u001b[0m\n\u001b[1;32m    433\u001b[0m             \u001b[0mtotal_pose\u001b[0m \u001b[0;34m=\u001b[0m \u001b[0mnp\u001b[0m\u001b[0;34m.\u001b[0m\u001b[0mvstack\u001b[0m\u001b[0;34m(\u001b[0m\u001b[0;34m(\u001b[0m\u001b[0mtotal_pose\u001b[0m\u001b[0;34m,\u001b[0m\u001b[0mlocal_pose\u001b[0m\u001b[0;34m)\u001b[0m\u001b[0;34m)\u001b[0m\u001b[0;34m\u001b[0m\u001b[0m\n",
      "\u001b[0;32m/home/martin/tensorflow/workspace/vae_tests/render_depth_mesh.py\u001b[0m in \u001b[0;36mrendering_cam\u001b[0;34m(self, i, n_view_up, n_translate)\u001b[0m\n\u001b[1;32m    351\u001b[0m         \u001b[0mtotal_pose\u001b[0m \u001b[0;34m=\u001b[0m \u001b[0mnp\u001b[0m\u001b[0;34m.\u001b[0m\u001b[0mempty\u001b[0m\u001b[0;34m(\u001b[0m\u001b[0;34m(\u001b[0m\u001b[0;36m0\u001b[0m\u001b[0;34m,\u001b[0m\u001b[0;36m7\u001b[0m\u001b[0;34m)\u001b[0m\u001b[0;34m)\u001b[0m\u001b[0;34m\u001b[0m\u001b[0m\n\u001b[1;32m    352\u001b[0m         \u001b[0;32mfor\u001b[0m \u001b[0mj\u001b[0m \u001b[0;32min\u001b[0m \u001b[0mrange\u001b[0m\u001b[0;34m(\u001b[0m\u001b[0mn_view_up\u001b[0m\u001b[0;34m)\u001b[0m\u001b[0;34m:\u001b[0m\u001b[0;34m\u001b[0m\u001b[0m\n\u001b[0;32m--> 353\u001b[0;31m             \u001b[0;34m[\u001b[0m\u001b[0mlocal_depth_map\u001b[0m\u001b[0;34m,\u001b[0m \u001b[0mlocal_pose\u001b[0m\u001b[0;34m]\u001b[0m \u001b[0;34m=\u001b[0m \u001b[0mself\u001b[0m\u001b[0;34m.\u001b[0m\u001b[0mrendering_cam_orientation\u001b[0m\u001b[0;34m(\u001b[0m\u001b[0mj\u001b[0m\u001b[0;34m,\u001b[0m \u001b[0mn_view_up\u001b[0m\u001b[0;34m,\u001b[0m \u001b[0mn_translate\u001b[0m\u001b[0;34m,\u001b[0m \u001b[0mcam_pos\u001b[0m\u001b[0;34m)\u001b[0m\u001b[0;34m\u001b[0m\u001b[0m\n\u001b[0m\u001b[1;32m    354\u001b[0m             \u001b[0mtotal_depth_map\u001b[0m \u001b[0;34m=\u001b[0m \u001b[0mnp\u001b[0m\u001b[0;34m.\u001b[0m\u001b[0mvstack\u001b[0m\u001b[0;34m(\u001b[0m\u001b[0;34m(\u001b[0m\u001b[0mtotal_depth_map\u001b[0m\u001b[0;34m,\u001b[0m\u001b[0mlocal_depth_map\u001b[0m\u001b[0;34m)\u001b[0m\u001b[0;34m)\u001b[0m\u001b[0;34m\u001b[0m\u001b[0m\n\u001b[1;32m    355\u001b[0m             \u001b[0mtotal_pose\u001b[0m \u001b[0;34m=\u001b[0m \u001b[0mnp\u001b[0m\u001b[0;34m.\u001b[0m\u001b[0mvstack\u001b[0m\u001b[0;34m(\u001b[0m\u001b[0;34m(\u001b[0m\u001b[0mtotal_pose\u001b[0m\u001b[0;34m,\u001b[0m\u001b[0mlocal_pose\u001b[0m\u001b[0;34m)\u001b[0m\u001b[0;34m)\u001b[0m\u001b[0;34m\u001b[0m\u001b[0m\n",
      "\u001b[0;32m/home/martin/tensorflow/workspace/vae_tests/render_depth_mesh.py\u001b[0m in \u001b[0;36mrendering_cam_orientation\u001b[0;34m(self, j, n_view_up, n_translate, cam_pos)\u001b[0m\n\u001b[1;32m    274\u001b[0m                     \u001b[0mvalid_map\u001b[0m \u001b[0;34m=\u001b[0m \u001b[0mnp\u001b[0m\u001b[0;34m.\u001b[0m\u001b[0mvstack\u001b[0m\u001b[0;34m(\u001b[0m\u001b[0;34m(\u001b[0m\u001b[0mvalid_map\u001b[0m\u001b[0;34m,\u001b[0m\u001b[0;34m[\u001b[0m\u001b[0mpx\u001b[0m\u001b[0;34m,\u001b[0m \u001b[0mpy\u001b[0m\u001b[0;34m,\u001b[0m \u001b[0mpz\u001b[0m\u001b[0;34m]\u001b[0m\u001b[0;34m)\u001b[0m\u001b[0;34m)\u001b[0m\u001b[0;34m\u001b[0m\u001b[0m\n\u001b[1;32m    275\u001b[0m \u001b[0;34m\u001b[0m\u001b[0m\n\u001b[0;32m--> 276\u001b[0;31m         \u001b[0mrandId\u001b[0m \u001b[0;34m=\u001b[0m \u001b[0mnp\u001b[0m\u001b[0;34m.\u001b[0m\u001b[0mrandom\u001b[0m\u001b[0;34m.\u001b[0m\u001b[0mchoice\u001b[0m\u001b[0;34m(\u001b[0m\u001b[0mvalid_map\u001b[0m\u001b[0;34m.\u001b[0m\u001b[0mshape\u001b[0m\u001b[0;34m[\u001b[0m\u001b[0;36m0\u001b[0m\u001b[0;34m]\u001b[0m\u001b[0;34m,\u001b[0m \u001b[0mn_translate\u001b[0m\u001b[0;34m,\u001b[0m \u001b[0mreplace\u001b[0m\u001b[0;34m=\u001b[0m\u001b[0;32mFalse\u001b[0m\u001b[0;34m)\u001b[0m\u001b[0;34m\u001b[0m\u001b[0m\n\u001b[0m\u001b[1;32m    277\u001b[0m         \u001b[0mtranslate_map\u001b[0m \u001b[0;34m=\u001b[0m \u001b[0mvalid_map\u001b[0m\u001b[0;34m[\u001b[0m\u001b[0mrandId\u001b[0m\u001b[0;34m,\u001b[0m \u001b[0;34m:\u001b[0m\u001b[0;34m]\u001b[0m\u001b[0;34m\u001b[0m\u001b[0m\n\u001b[1;32m    278\u001b[0m         \u001b[0mn_translation\u001b[0m \u001b[0;34m=\u001b[0m \u001b[0mtranslate_map\u001b[0m\u001b[0;34m.\u001b[0m\u001b[0mshape\u001b[0m\u001b[0;34m[\u001b[0m\u001b[0;36m0\u001b[0m\u001b[0;34m]\u001b[0m\u001b[0;34m\u001b[0m\u001b[0m\n",
      "\u001b[0;32mmtrand.pyx\u001b[0m in \u001b[0;36mmtrand.RandomState.choice (numpy/random/mtrand/mtrand.c:17062)\u001b[0;34m()\u001b[0m\n",
      "\u001b[0;31mValueError\u001b[0m: a must be greater than 0"
     ]
    }
   ],
   "source": [
    "\"\"\"\n",
    "Generates an npz file with the renderings of an .stl mesh file\n",
    "\"\"\"\n",
    "import vae_tests.render_depth_mesh as Render\n",
    "import vae_tests.config as config\n",
    "import sys\n",
    "\n",
    "%matplotlib inline  \n",
    "\n",
    "param_tesselation_level = 1 #3\n",
    "param_radius_sphere = 7500 #the engine support comes in mm \n",
    "param_resolution_x = 128\n",
    "param_resolution_y = 128\n",
    "param_view_angle = 15 #30\n",
    "param_resolution_angle = 100\n",
    "\n",
    "sys.stdout.flush()\n",
    "print(config.path)\n",
    "render = Render.RenderDepthMesh(path_mesh = config.path_mesh, path_output = config.path, param_tesselation_level=param_tesselation_level, param_radius_sphere=param_radius_sphere, param_resolution_x=param_resolution_x, param_resolution_y=param_resolution_y, param_view_angle=param_view_angle, param_resolution_angle=param_resolution_angle)\n",
    "render.generate(name='shelf', saveImgs=True)"
   ]
  },
  {
   "cell_type": "code",
   "execution_count": 5,
   "metadata": {
    "collapsed": false
   },
   "outputs": [],
   "source": [
    "\"\"\"\n",
    "Function to display an array as an image\n",
    "\"\"\"\n",
    "from io import BytesIO\n",
    "import PIL\n",
    "from PIL import Image\n",
    "from IPython.display import display, Image\n",
    "\n",
    "def display_img_array(ima):  \n",
    "  im = PIL.Image.fromarray(ima).convert('RGB')  \n",
    "  bio = BytesIO()\n",
    "  im.save(bio, format='png')\n",
    "  display(Image(bio.getvalue(), format='png'))\n"
   ]
  },
  {
   "cell_type": "code",
   "execution_count": 3,
   "metadata": {
    "collapsed": false
   },
   "outputs": [
    {
     "name": "stdout",
     "output_type": "stream",
     "text": [
      "['depth_map', 'obj_pose']\n",
      "(642, 128, 128)\n"
     ]
    }
   ],
   "source": [
    "\"\"\"\n",
    "Test that the .npz contains something useful\n",
    "\"\"\"\n",
    "import vae_tests.colormap as colorize\n",
    "import numpy as np\n",
    "import vae_tests.config as config\n",
    "path = config.path\n",
    "file = 'support_9672950980'\n",
    "path_data = path + file + '.npz'\n",
    "\n",
    "l = np.load(path_data)\n",
    "print (l.files)\n",
    "\n",
    "# Parse data\n",
    "total_depth_map = l['depth_map']\n",
    "total_obj_pose = l['obj_pose']\n",
    "\n",
    "print (total_depth_map.shape)\n",
    "\n",
    "\n",
    "length_object = 0.1;\n",
    "\n",
    "#colormap = colorize.ColorizeDepthMap(path_output = config.path, length = length_object)\n",
    "#colormap.generate(name='chainLink_128x128_va30_tess3_trans_colorized', depth_maps = total_depth_map, saveImgs=True)"
   ]
  },
  {
   "cell_type": "code",
   "execution_count": 7,
   "metadata": {
    "collapsed": false
   },
   "outputs": [
    {
     "name": "stdout",
     "output_type": "stream",
     "text": [
      "/home/martin/tensorflow/workspace/vae_tests/data_transformer/\n"
     ]
    }
   ],
   "source": [
    "import vae_tests.config as config\n",
    "print(config.path)"
   ]
  },
  {
   "cell_type": "code",
   "execution_count": 6,
   "metadata": {
    "collapsed": false
   },
   "outputs": [
    {
     "name": "stdout",
     "output_type": "stream",
     "text": [
      "(128, 128)\n"
     ]
    },
    {
     "data": {
      "image/png": "[encoded data removed]",
      "text/plain": [
       "<IPython.core.display.Image object>"
      ]
     },
     "metadata": {},
     "output_type": "display_data"
    }
   ],
   "source": [
    "depth_map=total_depth_map[0]\n",
    "print((depth_map.shape))\n",
    "display_img_array(depth_map)"
   ]
  }
 ],
 "metadata": {
  "kernelspec": {
   "display_name": "IPython (Python 3)",
   "language": "python",
   "name": "python3"
  },
  "language_info": {
   "codemirror_mode": {
    "name": "ipython",
    "version": 3
   },
   "file_extension": ".py",
   "mimetype": "text/x-python",
   "name": "python",
   "nbconvert_exporter": "python",
   "pygments_lexer": "ipython3",
   "version": "3.4.3"
  }
 },
 "nbformat": 4,
 "nbformat_minor": 0
}
