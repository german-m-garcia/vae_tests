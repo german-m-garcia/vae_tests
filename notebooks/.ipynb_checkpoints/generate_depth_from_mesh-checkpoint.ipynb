{
 "cells": [
  {
   "cell_type": "code",
   "execution_count": null,
   "metadata": {
    "collapsed": false,
    "scrolled": true
   },
   "outputs": [],
   "source": [
    "\"\"\"\n",
    "Generates an npz file with the renderings of an .stl mesh file\n",
    "\"\"\"\n",
    "import vae_tests.render_depth_mesh as Render\n",
    "import vae_tests.config as config\n",
    "import sys\n",
    "\n",
    "%matplotlib inline  \n",
    "\n",
    "param_tesselation_level = 3\n",
    "param_radius_sphere = 5000 #the engine support comes in mm \n",
    "param_resolution_x = 128\n",
    "param_resolution_y = 128\n",
    "param_view_angle = 30\n",
    "param_resolution_angle = 100\n",
    "\n",
    "sys.stdout.flush()\n",
    "print(config.path)\n",
    "render = Render.RenderDepthMesh(path_mesh = config.path_mesh, path_output = config.path, param_tesselation_level=param_tesselation_level, param_radius_sphere=param_radius_sphere, param_resolution_x=param_resolution_x, param_resolution_y=param_resolution_y, param_view_angle=param_view_angle, param_resolution_angle=param_resolution_angle)\n",
    "render.generate(name='shelf', saveImgs=True)"
   ]
  },
  {
   "cell_type": "code",
   "execution_count": 5,
   "metadata": {
    "collapsed": false
   },
   "outputs": [],
   "source": [
    "\"\"\"\n",
    "Function to display an array as an image\n",
    "\"\"\"\n",
    "from io import BytesIO\n",
    "import PIL\n",
    "from PIL import Image\n",
    "from IPython.display import display, Image\n",
    "\n",
    "def display_img_array(ima):  \n",
    "  im = PIL.Image.fromarray(ima).convert('RGB')  \n",
    "  bio = BytesIO()\n",
    "  im.save(bio, format='png')\n",
    "  display(Image(bio.getvalue(), format='png'))\n"
   ]
  },
  {
   "cell_type": "code",
   "execution_count": 3,
   "metadata": {
    "collapsed": false
   },
   "outputs": [
    {
     "name": "stdout",
     "output_type": "stream",
     "text": [
      "['depth_map', 'obj_pose']\n",
      "(642, 128, 128)\n"
     ]
    }
   ],
   "source": [
    "\"\"\"\n",
    "Test that the .npz contains something useful\n",
    "\"\"\"\n",
    "import vae_tests.colormap as colorize\n",
    "import numpy as np\n",
    "import vae_tests.config as config\n",
    "path = config.path\n",
    "file = 'support_9672950980'\n",
    "path_data = path + file + '.npz'\n",
    "\n",
    "l = np.load(path_data)\n",
    "print (l.files)\n",
    "\n",
    "# Parse data\n",
    "total_depth_map = l['depth_map']\n",
    "total_obj_pose = l['obj_pose']\n",
    "\n",
    "print (total_depth_map.shape)\n",
    "\n",
    "\n",
    "length_object = 0.1;\n",
    "\n",
    "#colormap = colorize.ColorizeDepthMap(path_output = config.path, length = length_object)\n",
    "#colormap.generate(name='chainLink_128x128_va30_tess3_trans_colorized', depth_maps = total_depth_map, saveImgs=True)"
   ]
  },
  {
   "cell_type": "code",
   "execution_count": 7,
   "metadata": {
    "collapsed": false
   },
   "outputs": [
    {
     "name": "stdout",
     "output_type": "stream",
     "text": [
      "/home/martin/tensorflow/workspace/vae_tests/data_transformer/\n"
     ]
    }
   ],
   "source": [
    "import vae_tests.config as config\n",
    "print(config.path)"
   ]
  },
  {
   "cell_type": "code",
   "execution_count": 6,
   "metadata": {
    "collapsed": false
   },
   "outputs": [
    {
     "name": "stdout",
     "output_type": "stream",
     "text": [
      "(128, 128)\n"
     ]
    },
    {
     "data": {
      "image/png": "[encoded data removed]",
      "text/plain": [
       "<IPython.core.display.Image object>"
      ]
     },
     "metadata": {},
     "output_type": "display_data"
    }
   ],
   "source": [
    "depth_map=total_depth_map[0]\n",
    "print((depth_map.shape))\n",
    "display_img_array(depth_map)"
   ]
  }
 ],
 "metadata": {
  "kernelspec": {
   "display_name": "IPython (Python 3)",
   "language": "python",
   "name": "python3"
  },
  "language_info": {
   "codemirror_mode": {
    "name": "ipython",
    "version": 3
   },
   "file_extension": ".py",
   "mimetype": "text/x-python",
   "name": "python",
   "nbconvert_exporter": "python",
   "pygments_lexer": "ipython3",
   "version": "3.4.3"
  }
 },
 "nbformat": 4,
 "nbformat_minor": 0
}
