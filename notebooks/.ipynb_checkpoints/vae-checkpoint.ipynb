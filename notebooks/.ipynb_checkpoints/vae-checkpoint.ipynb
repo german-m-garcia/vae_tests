{
 "cells": [
  {
   "cell_type": "code",
   "execution_count": 1,
   "metadata": {
    "collapsed": false
   },
   "outputs": [],
   "source": [
    "\"\"\"\n",
    "Experiments with CNNs/VAEs\n",
    "\"\"\"\n",
    "from ipywidgets import *\n",
    "import tensorflow as tf\n",
    "import vae_tests.tfutils as ut\n",
    "import vae_tests.config as config\n",
    "import numpy as np\n",
    "import vae_tests.augmentation as aug\n",
    "sess = tf.InteractiveSession()\n",
    "\n",
    "\"\"\"\n",
    "Utility functions from https://github.com/fastforwardlabs/vae-tf/blob/master/vae.py\n",
    "\"\"\"\n",
    "def sampleGaussian(mu, log_sigma):\n",
    "        \"\"\"(Differentiably!) draw sample from Gaussian with given shape, subject to random noise epsilon\"\"\"\n",
    "        with tf.name_scope(\"sample_gaussian\"):\n",
    "            # reparameterization trick\n",
    "            epsilon = tf.random_normal(tf.shape(log_sigma), name=\"epsilon\")\n",
    "            return mu + epsilon * tf.exp(log_sigma) # N(mu, I * sigma**2)\n",
    "\n",
    "\n",
    "def crossEntropy(obs, actual, offset=1e-7):\n",
    "    \"\"\"Binary cross-entropy, per training example\"\"\"\n",
    "    # (tf.Tensor, tf.Tensor, float) -> tf.Tensor\n",
    "    with tf.name_scope(\"cross_entropy\"):\n",
    "        # bound by clipping to avoid nan\n",
    "        obs_ = tf.clip_by_value(obs, offset, 1 - offset)\n",
    "        return -tf.reduce_sum(actual * tf.log(obs_) +\n",
    "                              (1 - actual) * tf.log(1 - obs_), 1)\n",
    "\n",
    "\n",
    "def l1_loss(obs, actual):\n",
    "    \"\"\"L1 loss (a.k.a. LAD), per training example\"\"\"\n",
    "    # (tf.Tensor, tf.Tensor, float) -> tf.Tensor\n",
    "    with tf.name_scope(\"l1_loss\"):\n",
    "        return tf.reduce_sum(tf.abs(obs - actual) , 1)\n",
    "\n",
    "\n",
    "def l2_loss(obs, actual):\n",
    "    \"\"\"L2 loss (a.k.a. Euclidean / LSE), per training example\"\"\"\n",
    "    # (tf.Tensor, tf.Tensor, float) -> tf.Tensor\n",
    "    with tf.name_scope(\"l2_loss\"):\n",
    "        return tf.reduce_sum(tf.square(obs - actual), 1)\n",
    "\n",
    "\n",
    "def kullbackLeibler(mu, log_sigma):\n",
    "    \"\"\"(Gaussian) Kullback-Leibler divergence KL(q||p), per training example\"\"\"\n",
    "    # (tf.Tensor, tf.Tensor) -> tf.Tensor\n",
    "    with tf.name_scope(\"KL_divergence\"):\n",
    "        # = -0.5 * (1 + log(sigma**2) - mu**2 - sigma**2)\n",
    "        return -0.5 * tf.reduce_sum(1 + 2 * log_sigma - mu**2 - tf.exp(2 * log_sigma), 1)\n",
    "\n",
    "\n"
   ]
  },
  {
   "cell_type": "code",
   "execution_count": 2,
   "metadata": {
    "collapsed": false
   },
   "outputs": [],
   "source": [
    "from tensorflow.python.framework import ops\n",
    "from tensorflow.python.ops import gen_nn_ops\n",
    "@ops.RegisterGradient(\"MaxPoolWithArgmax\")\n",
    "def _MaxPoolWithArgmaxGrad(op, grad, some_other_arg):\n",
    "  return gen_nn_ops._max_pool_grad(op.inputs[0],\n",
    "                                   op.outputs[0],\n",
    "                                   grad,\n",
    "                                   op.get_attr(\"ksize\"),\n",
    "                                   op.get_attr(\"strides\"),\n",
    "                                   padding=op.get_attr(\"padding\"),\n",
    "                                   data_format='NHWC')"
   ]
  },
  {
   "cell_type": "code",
   "execution_count": null,
   "metadata": {
    "collapsed": true
   },
   "outputs": [],
   "source": []
  },
  {
   "cell_type": "code",
   "execution_count": 3,
   "metadata": {
    "collapsed": false,
    "scrolled": true
   },
   "outputs": [
    {
     "name": "stdout",
     "output_type": "stream",
     "text": [
      "pool4\n",
      "(?, 8, 8, 256)\n",
      "dense\n",
      "(?, 16384)\n",
      "full\n",
      "(?, 16)\n",
      "z_mean\n",
      "(?, 16)\n",
      "gaussian_sampled\n",
      "(?, 16)\n",
      "deconv_dense\n",
      "(?, 256)\n",
      "deconv4\n",
      "(?, 8, 8, 256)\n",
      "deconv3\n",
      "(?, ?, ?, ?)\n",
      "deconv2\n",
      "(?, ?, ?, ?)\n",
      "deconv1\n",
      "(?, ?, ?, ?)\n"
     ]
    }
   ],
   "source": [
    "\n",
    "# Training Parameters\n",
    "learning_rate   = 0.001 #0.001\n",
    "training_epochs = 1000\n",
    "batch_size      = 10\n",
    "display_step    = 1\n",
    "\n",
    "#build the graph\n",
    "\n",
    "\n",
    "#the first dimension=None, it represents the batch size, can be any size\n",
    "# graph\n",
    "scope=\"shelf\"\n",
    "with tf.variable_scope(scope):\n",
    "    x_in_depth = tf.placeholder(tf.float32, [None, 128, 128, 1])\n",
    "    \n",
    "    phase = tf.placeholder(tf.bool, name='phase_train')\n",
    "   \n",
    "\n",
    "    \n",
    "    #-----------------------\n",
    "    # encoder p(z|x)\n",
    "    #-----------------------\n",
    "    conv11 = ut.conv_layer_with_bn(\n",
    "                    x_in_depth, [3, 3, 1, 32], phase, name=\"conv11\")\n",
    "     # see https://groups.google.com/a/tensorflow.org/forum/#!topic/discuss/vf8eH9YMwVA\n",
    "    dyn_input_shape = tf.shape(conv11)\n",
    "    in_batch = dyn_input_shape[0]\n",
    "    pool1, pool1_indices = tf.nn.max_pool_with_argmax(\n",
    "                    conv11, ksize=[1, 2, 2, 1], strides=[1, 2, 2, 1],padding='SAME', name='pool1')        \n",
    "    conv21 = ut.conv_layer_with_bn(\n",
    "                    pool1, [3, 3, 32, 64], phase, name=\"conv21\")\n",
    "    pool2, pool2_indices = tf.nn.max_pool_with_argmax(\n",
    "                    conv21, ksize=[1, 2, 2, 1], strides=[1, 2, 2, 1], padding='SAME', name='pool2')       \n",
    "    conv31 = ut.conv_layer_with_bn(\n",
    "                    pool2, [3, 3, 64, 128], phase, name=\"conv31\")\n",
    "    conv32 = ut.conv_layer_with_bn(\n",
    "                    conv31, [3, 3, 128, 128], phase, name=\"conv32\")\n",
    "    pool3, pool3_indices = tf.nn.max_pool_with_argmax(\n",
    "                    conv32, ksize=[1, 2, 2, 1], strides=[1, 2, 2, 1], padding='SAME', name='pool3')        \n",
    "    conv41 = ut.conv_layer_with_bn(\n",
    "                    pool3, [3, 3, 128, 256], phase, name=\"conv41\")\n",
    "    conv42 = ut.conv_layer_with_bn(\n",
    "                    conv41, [3, 3, 256, 256], phase, name=\"conv42\")\n",
    "    pool4, pool4_indices = tf.nn.max_pool_with_argmax(\n",
    "                    conv42, ksize=[1, 2, 2, 1], strides=[1, 2, 2, 1], padding='SAME', name='pool4')\n",
    "\n",
    "    latent_variables = 16\n",
    "    print('pool4')\n",
    "    print(pool4.get_shape())\n",
    "    dense = tf.reshape(pool4, [in_batch, pool4.get_shape().as_list()[1]*pool4.get_shape().as_list()[2]*256])\n",
    "    print('dense')\n",
    "    print(dense.get_shape())\n",
    "    full = ut.full_layer_with_bn(dense, [dense.get_shape().as_list()[1], latent_variables], phase, name=\"full\")\n",
    "    print('full')\n",
    "    print(full.get_shape())\n",
    "    #-----------------------\n",
    "    #the latent variables   \n",
    "    z_mean = ut.full_layer_with_bn(full, [full.get_shape().as_list()[1], latent_variables], phase, name=\"z_mean\")        \n",
    "    z_log_sigma = ut.full_layer_with_bn(full, [full.get_shape().as_list()[1], latent_variables], phase, name=\"z_log_sigma\")       \n",
    "\n",
    "   \n",
    "    print('z_mean')\n",
    "    print(z_mean.get_shape())   \n",
    "    \n",
    "    #---------------------------------\n",
    "    # at this point define the KL loss\n",
    "    #---------------------------------\n",
    "    kl_loss = kullbackLeibler(z_mean, z_log_sigma)\n",
    "    \n",
    "    \n",
    "    #-----------------------\n",
    "    # decoder p(x|z)\n",
    "    #-----------------------\n",
    "    \n",
    "    #first, need to sample from unit Gaussian and scale the result(reparametrization trick)\n",
    "    gaussian_sampled = sampleGaussian(mu=z_mean, log_sigma=z_log_sigma)\n",
    "    \n",
    "    print('gaussian_sampled')\n",
    "    print(gaussian_sampled.get_shape())    \n",
    "    \n",
    "    deconv_dense = ut.full_layer_with_bn(gaussian_sampled, [latent_variables, 256], phase, name=\"deconv4\")   \n",
    "    #deconv_dense = ut.full_layer_with_bn(gaussian_sampled, tf.pack([in_batch,pool4.get_shape()[1]*pool4.get_shape()[2]*pool4.get_shape()[3]]), phase, name=\"deconv4\")   \n",
    "      \n",
    "    \n",
    "    print('deconv_dense')\n",
    "    print(deconv_dense.get_shape())\n",
    "    \n",
    "    full_deconv = ut.full_layer_with_bn(deconv_dense, [256, 8*8*256], phase, name=\"full_deconv\")   \n",
    "    \n",
    "    deconv4 = tf.reshape(full_deconv, tf.pack([in_batch,8,8,256]))\n",
    "    \n",
    "    print('deconv4')\n",
    "    print(deconv4.get_shape())\n",
    "    \n",
    "    #in_batch = tf.shape(deconv4)[0]#deconv4.get_shape()[0]\n",
    "    ksize=4\n",
    "    factor=2\n",
    "    number_of_classes = int(int(deconv4.get_shape()[3]) / factor)\n",
    "    in_features = deconv4.get_shape()[3].value\n",
    "    deconv3 = ut.deconv_layer_koo(deconv4, [ksize, ksize, 256, 256], \n",
    "                                  tf.pack([in_batch,16, 16, 256]) , \n",
    "                                  stride=2, name=\"deconv3\")\n",
    "    \n",
    "    print('deconv3')\n",
    "    print(deconv3.get_shape())\n",
    "    \n",
    "    deconv2 = ut.deconv_layer_koo(deconv3, [ksize, ksize, 128, 256], \n",
    "                                  tf.pack([in_batch,32, 32, 128]) , \n",
    "                                  stride=2, name=\"deconv2\")\n",
    "    \n",
    "    print('deconv2')\n",
    "    print(deconv2.get_shape())\n",
    "    \n",
    "    deconv1 = ut.deconv_layer_koo(deconv2, [ksize, ksize, 64, 128], \n",
    "                                  tf.pack([in_batch,64, 64, 64]) ,                                  \n",
    "                                  stride=2, name=\"deconv1\")\n",
    "  \n",
    "\n",
    "    print('deconv1')\n",
    "    print(deconv1.get_shape())\n",
    "    x_reconstructed = ut.deconv_layer_koo(deconv1, [ksize, ksize, 1, 64], \n",
    "                                          tf.pack([in_batch,128, 128, 1]) , stride=2, name=\"x_reconstructed\")\n",
    "   \n",
    "    \n",
    "\n"
   ]
  },
  {
   "cell_type": "code",
   "execution_count": 4,
   "metadata": {
    "collapsed": false
   },
   "outputs": [
    {
     "name": "stdout",
     "output_type": "stream",
     "text": [
      "(?, ?, ?, ?)\n"
     ]
    }
   ],
   "source": [
    "#loss\n",
    "print(x_reconstructed.get_shape())\n",
    "#--------------------------------------------------------\n",
    "# at this point define cross entropy, reconstruction loss\n",
    "#--------------------------------------------------------\n",
    "rec_loss = crossEntropy(x_reconstructed, x_in_depth)\n",
    "cost = tf.reduce_mean(rec_loss + kl_loss, name=\"cost\")"
   ]
  },
  {
   "cell_type": "code",
   "execution_count": 5,
   "metadata": {
    "collapsed": false
   },
   "outputs": [
    {
     "name": "stdout",
     "output_type": "stream",
     "text": [
      "WARNING:tensorflow:From <ipython-input-5-d660b4f880e2>:14 in <module>.: initialize_all_variables (from tensorflow.python.ops.variables) is deprecated and will be removed after 2017-03-02.\n",
      "Instructions for updating:\n",
      "Use `tf.global_variables_initializer` instead.\n"
     ]
    }
   ],
   "source": [
    "#training initialisation\n",
    "\n",
    "# Saver \n",
    "save_step = 10;\n",
    "saver = tf.train.Saver(max_to_keep=training_epochs) \n",
    "\n",
    "#adam optimisation. Needs the cost function\n",
    "optm = tf.train.AdamOptimizer(learning_rate=learning_rate).minimize(cost)\n",
    "#corr = tf.equal(theta, y) # Count corrects\n",
    "#accr = tf.reduce_mean(tf.cast(corr, tf.float32)) # Accuracy\n",
    "\n",
    "# Do some optimizations\n",
    "#init = tf.global_variables_initializer()\n",
    "init = tf.initialize_all_variables()\n",
    "sess = tf.Session()\n",
    "gpu_options = tf.GPUOptions(per_process_gpu_memory_fraction=0.99)\n",
    "\n",
    "sess = tf.Session(config=tf.ConfigProto(gpu_options=gpu_options))\n",
    "#sess = tf.Session(config=tf.ConfigProto(\n",
    "#      allow_soft_placement=True, log_device_placement=True))\n",
    "sess.run(init, feed_dict={phase: True})"
   ]
  },
  {
   "cell_type": "code",
   "execution_count": null,
   "metadata": {
    "collapsed": false,
    "scrolled": true
   },
   "outputs": [
    {
     "name": "stdout",
     "output_type": "stream",
     "text": [
      "['depth_map']\n",
      "training...\n",
      "   augmenting for training...\n",
      "   done\n"
     ]
    },
    {
     "data": {
      "image/png": "[encoded data removed]",
      "text/plain": [
       "<IPython.core.display.Image object>"
      ]
     },
     "metadata": {},
     "output_type": "display_data"
    },
    {
     "name": "stdout",
     "output_type": "stream",
     "text": [
      "avg_loss= 134.225339254\n",
      "training...\n",
      "   augmenting for training...\n",
      "   done\n"
     ]
    },
    {
     "data": {
      "image/png": "[encoded data removed]",
      "text/plain": [
       "<IPython.core.display.Image object>"
      ]
     },
     "metadata": {},
     "output_type": "display_data"
    },
    {
     "name": "stdout",
     "output_type": "stream",
     "text": [
      "avg_loss= 139.382804871\n",
      "training...\n",
      "   augmenting for training...\n",
      "   done\n"
     ]
    },
    {
     "data": {
      "image/png": "[encoded data removed]",
      "text/plain": [
       "<IPython.core.display.Image object>"
      ]
     },
     "metadata": {},
     "output_type": "display_data"
    },
    {
     "name": "stdout",
     "output_type": "stream",
     "text": [
      "avg_loss= 113.94066747\n",
      "training...\n",
      "   augmenting for training...\n",
      "   done\n"
     ]
    },
    {
     "data": {
      "image/png": "[encoded data removed]",
      "text/plain": [
       "<IPython.core.display.Image object>"
      ]
     },
     "metadata": {},
     "output_type": "display_data"
    },
    {
     "name": "stdout",
     "output_type": "stream",
     "text": [
      "avg_loss= 110.354358673\n",
      "training...\n",
      "   augmenting for training...\n",
      "   done\n"
     ]
    },
    {
     "data": {
      "image/png": "[encoded data removed]",
      "text/plain": [
       "<IPython.core.display.Image object>"
      ]
     },
     "metadata": {},
     "output_type": "display_data"
    },
    {
     "name": "stdout",
     "output_type": "stream",
     "text": [
      "avg_loss= 108.319868724\n",
      "training...\n",
      "   augmenting for training...\n",
      "   done\n"
     ]
    },
    {
     "data": {
      "image/png": "[encoded data removed]",
      "text/plain": [
       "<IPython.core.display.Image object>"
      ]
     },
     "metadata": {},
     "output_type": "display_data"
    },
    {
     "name": "stdout",
     "output_type": "stream",
     "text": [
      "avg_loss= 88.0004056295\n",
      "training...\n",
      "   augmenting for training...\n",
      "   done\n"
     ]
    },
    {
     "data": {
      "image/png": "[encoded data removed]",
      "text/plain": [
       "<IPython.core.display.Image object>"
      ]
     },
     "metadata": {},
     "output_type": "display_data"
    },
    {
     "name": "stdout",
     "output_type": "stream",
     "text": [
      "avg_loss= 94.8177846273\n",
      "training...\n",
      "   augmenting for training...\n",
      "   done\n"
     ]
    },
    {
     "data": {
      "image/png": "[encoded data removed]",
      "text/plain": [
       "<IPython.core.display.Image object>"
      ]
     },
     "metadata": {},
     "output_type": "display_data"
    },
    {
     "name": "stdout",
     "output_type": "stream",
     "text": [
      "avg_loss= 93.3723436991\n",
      "training...\n",
      "   augmenting for training...\n",
      "   done\n"
     ]
    },
    {
     "data": {
      "image/png": "[encoded data removed]",
      "text/plain": [
       "<IPython.core.display.Image object>"
      ]
     },
     "metadata": {},
     "output_type": "display_data"
    },
    {
     "name": "stdout",
     "output_type": "stream",
     "text": [
      "avg_loss= 75.1202430725\n",
      "training...\n",
      "   augmenting for training...\n",
      "   done\n"
     ]
    },
    {
     "data": {
      "image/png": "[encoded data removed]",
      "text/plain": [
       "<IPython.core.display.Image object>"
      ]
     },
     "metadata": {},
     "output_type": "display_data"
    },
    {
     "name": "stdout",
     "output_type": "stream",
     "text": [
      "avg_loss= 76.3172200521\n",
      "training...\n",
      "   augmenting for training...\n",
      "   done\n"
     ]
    },
    {
     "data": {
      "image/png": "[encoded data removed]",
      "text/plain": [
       "<IPython.core.display.Image object>"
      ]
     },
     "metadata": {},
     "output_type": "display_data"
    },
    {
     "name": "stdout",
     "output_type": "stream",
     "text": [
      "avg_loss= 74.9005190531\n",
      "training...\n",
      "   augmenting for training...\n",
      "   done\n"
     ]
    },
    {
     "data": {
      "image/png": "[encoded data removed]",
      "text/plain": [
       "<IPython.core.display.Image object>"
      ]
     },
     "metadata": {},
     "output_type": "display_data"
    },
    {
     "name": "stdout",
     "output_type": "stream",
     "text": [
      "avg_loss= 76.125527064\n",
      "training...\n",
      "   augmenting for training...\n",
      "   done\n"
     ]
    },
    {
     "data": {
      "image/png": "[encoded data removed]",
      "text/plain": [
       "<IPython.core.display.Image object>"
      ]
     },
     "metadata": {},
     "output_type": "display_data"
    },
    {
     "name": "stdout",
     "output_type": "stream",
     "text": [
      "avg_loss= 89.2956123352\n",
      "training...\n",
      "   augmenting for training...\n",
      "   done\n"
     ]
    },
    {
     "data": {
      "image/png": "[encoded data removed]",
      "text/plain": [
       "<IPython.core.display.Image object>"
      ]
     },
     "metadata": {},
     "output_type": "display_data"
    },
    {
     "name": "stdout",
     "output_type": "stream",
     "text": [
      "avg_loss= 76.0984662374\n",
      "training...\n",
      "   augmenting for training...\n",
      "   done\n"
     ]
    },
    {
     "data": {
      "image/png": "[encoded data removed]",
      "text/plain": [
       "<IPython.core.display.Image object>"
      ]
     },
     "metadata": {},
     "output_type": "display_data"
    },
    {
     "name": "stdout",
     "output_type": "stream",
     "text": [
      "avg_loss= 106.649548848\n",
      "training...\n",
      "   augmenting for training...\n",
      "   done\n"
     ]
    },
    {
     "data": {
      "image/png": "[encoded data removed]",
      "text/plain": [
       "<IPython.core.display.Image object>"
      ]
     },
     "metadata": {},
     "output_type": "display_data"
    },
    {
     "name": "stdout",
     "output_type": "stream",
     "text": [
      "avg_loss= 210.971220652\n",
      "training...\n",
      "   augmenting for training...\n",
      "   done\n"
     ]
    },
    {
     "data": {
      "image/png": "[encoded data removed]",
      "text/plain": [
       "<IPython.core.display.Image object>"
      ]
     },
     "metadata": {},
     "output_type": "display_data"
    },
    {
     "name": "stdout",
     "output_type": "stream",
     "text": [
      "avg_loss= 116.125127157\n",
      "training...\n",
      "   augmenting for training...\n",
      "   done\n"
     ]
    },
    {
     "data": {
      "image/png": "[encoded data removed]",
      "text/plain": [
       "<IPython.core.display.Image object>"
      ]
     },
     "metadata": {},
     "output_type": "display_data"
    },
    {
     "name": "stdout",
     "output_type": "stream",
     "text": [
      "avg_loss= 106.714394887\n",
      "training...\n",
      "   augmenting for training...\n",
      "   done\n"
     ]
    },
    {
     "data": {
      "image/png": "[encoded data removed]",
      "text/plain": [
       "<IPython.core.display.Image object>"
      ]
     },
     "metadata": {},
     "output_type": "display_data"
    },
    {
     "name": "stdout",
     "output_type": "stream",
     "text": [
      "avg_loss= 107.323012034\n",
      "training...\n",
      "   augmenting for training...\n",
      "   done\n"
     ]
    },
    {
     "data": {
      "image/png": "[encoded data removed]",
      "text/plain": [
       "<IPython.core.display.Image object>"
      ]
     },
     "metadata": {},
     "output_type": "display_data"
    },
    {
     "name": "stdout",
     "output_type": "stream",
     "text": [
      "avg_loss= 93.6799875895\n",
      "training...\n",
      "   augmenting for training...\n",
      "   done\n"
     ]
    },
    {
     "data": {
      "image/png": "[encoded data removed]",
      "text/plain": [
       "<IPython.core.display.Image object>"
      ]
     },
     "metadata": {},
     "output_type": "display_data"
    },
    {
     "name": "stdout",
     "output_type": "stream",
     "text": [
      "avg_loss= 93.8173141479\n",
      "training...\n",
      "   augmenting for training...\n",
      "   done\n"
     ]
    },
    {
     "data": {
      "image/png": "[encoded data removed]",
      "text/plain": [
       "<IPython.core.display.Image object>"
      ]
     },
     "metadata": {},
     "output_type": "display_data"
    },
    {
     "name": "stdout",
     "output_type": "stream",
     "text": [
      "avg_loss= 92.0195566813\n",
      "training...\n",
      "   augmenting for training...\n",
      "   done\n"
     ]
    },
    {
     "data": {
      "image/png": "[encoded data removed]",
      "text/plain": [
       "<IPython.core.display.Image object>"
      ]
     },
     "metadata": {},
     "output_type": "display_data"
    },
    {
     "name": "stdout",
     "output_type": "stream",
     "text": [
      "avg_loss= 92.1329841614\n",
      "training...\n",
      "   augmenting for training...\n",
      "   done\n"
     ]
    },
    {
     "data": {
      "image/png": "[encoded data removed]",
      "text/plain": [
       "<IPython.core.display.Image object>"
      ]
     },
     "metadata": {},
     "output_type": "display_data"
    },
    {
     "name": "stdout",
     "output_type": "stream",
     "text": [
      "avg_loss= 113.180575053\n",
      "training...\n",
      "   augmenting for training...\n",
      "   done\n"
     ]
    },
    {
     "data": {
      "image/png": "[encoded data removed]",
      "text/plain": [
       "<IPython.core.display.Image object>"
      ]
     },
     "metadata": {},
     "output_type": "display_data"
    },
    {
     "name": "stdout",
     "output_type": "stream",
     "text": [
      "avg_loss= 102.533000946\n",
      "training...\n",
      "   augmenting for training...\n",
      "   done\n"
     ]
    },
    {
     "data": {
      "image/png": "[encoded data removed]",
      "text/plain": [
       "<IPython.core.display.Image object>"
      ]
     },
     "metadata": {},
     "output_type": "display_data"
    },
    {
     "name": "stdout",
     "output_type": "stream",
     "text": [
      "avg_loss= 103.044498444\n",
      "training...\n",
      "   augmenting for training...\n",
      "   done\n"
     ]
    },
    {
     "data": {
      "image/png": "[encoded data removed]",
      "text/plain": [
       "<IPython.core.display.Image object>"
      ]
     },
     "metadata": {},
     "output_type": "display_data"
    }
   ],
   "source": [
    "training_epochs = 1\n",
    "# read the training data\n",
    "path = config.path\n",
    "file = 'shelf'\n",
    "path_data = path + file + '.npz'\n",
    "l = np.load(path_data)\n",
    "print (l.files)\n",
    "\n",
    "# Parse data\n",
    "train_depth = l['depth_map']\n",
    "#train_obj_pose = l['obj_pose']\n",
    "\n",
    "# Training cycle\n",
    "loss = []\n",
    "error_train = []\n",
    "error_test = []\n",
    "training_epochs = 10\n",
    "for epoch in range(training_epochs):\n",
    "    avg_cost = 0.\n",
    "    test_acc = 0.\n",
    "    print('training...')\n",
    "    \n",
    "    \n",
    "    #1st, data augmentation\n",
    "    print('   augmenting for training...')\n",
    "    train_depth_aug = np.empty([train_depth.shape[0], train_depth.shape[1], train_depth.shape[2], 1])\n",
    "    for i in range(train_depth.shape[0]):\n",
    "       #img_aug = aug.augmentation(img=train_depth[i], aug_horz_max = 50, aug_vert_max = 50, aug_noise_max = 5, aug_const_max = 50)        \n",
    "        img_aug = train_depth[i].reshape((train_depth[i].shape[0], train_depth[i].shape[1], 1))\n",
    "        train_depth_aug[i] = img_aug\n",
    "    print('   done')\n",
    "    \n",
    "    ntrain = train_depth_aug.shape[0]\n",
    "    num_batch = int(ntrain/batch_size)+1\n",
    "    \n",
    "        \n",
    "    for i in range(num_batch):         \n",
    "        randidx = np.random.randint(ntrain, size=batch_size)            \n",
    "        batch_depth = train_depth_aug[randidx, :]\n",
    "        #print(batch_depth.shape)\n",
    "        #img=batch_depth[0,:]\n",
    "        #img_deaug = img.reshape(img.shape[0], img.shape[1])\n",
    "        #print(img_deaug.shape)\n",
    "        #display_img_array(img_deaug)       \n",
    "        feed={x_in_depth: batch_depth , phase:True}\n",
    "        sess.run(optm, feed_dict=feed)\n",
    "        # Compute average loss\n",
    "        fetches = [cost, x_reconstructed, rec_loss , kl_loss]\n",
    "        local_cost, x_recon, recon_loss, kl_loss_  = sess.run(fetches, feed_dict=feed)\n",
    "        avg_cost += local_cost/num_batch  \n",
    "               \n",
    "        #print('kl-loss=', kl_loss_)\n",
    "        #print('recon_loss=', recon_loss)\n",
    "        #display the reconstruction      \n",
    "        \n",
    "        if i ==0:\n",
    "            img=x_recon[0,:]\n",
    "            img_deaug = img.reshape(img.shape[0], img.shape[1])\n",
    "            display_img_array(255*img_deaug)       \n",
    "       \n",
    "    \n",
    "    error_train.append(avg_cost)\n",
    "    loss.append(avg_cost)\n",
    "    print('avg_loss=',avg_cost)\n",
    "print (\"Optimization Finished!\")\n"
   ]
  },
  {
   "cell_type": "code",
   "execution_count": 7,
   "metadata": {
    "collapsed": false
   },
   "outputs": [],
   "source": [
    "from io import BytesIO\n",
    "import PIL\n",
    "from PIL import Image\n",
    "from IPython.display import display, Image\n",
    "\n",
    "def display_img_array(ima):  \n",
    "  im = PIL.Image.fromarray(ima).convert('RGB')  \n",
    "  bio = BytesIO()\n",
    "  im.save(bio, format='png')\n",
    "  display(Image(bio.getvalue(), format='png'))"
   ]
  },
  {
   "cell_type": "code",
   "execution_count": null,
   "metadata": {
    "collapsed": false
   },
   "outputs": [],
   "source": [
    "#tf.shape(deconv4)\n",
    "print(deconv4.get_shape())\n",
    "print(deconv3.get_shape())\n",
    "\n",
    "print(deconv2.get_shape())\n",
    "#print(deconv1.get_shape())"
   ]
  },
  {
   "cell_type": "code",
   "execution_count": null,
   "metadata": {
    "collapsed": false
   },
   "outputs": [],
   "source": [
    "x_reconstructed.get_shape()"
   ]
  }
 ],
 "metadata": {
  "kernelspec": {
   "display_name": "IPython (Python 3)",
   "language": "python",
   "name": "python3"
  },
  "language_info": {
   "codemirror_mode": {
    "name": "ipython",
    "version": 3
   },
   "file_extension": ".py",
   "mimetype": "text/x-python",
   "name": "python",
   "nbconvert_exporter": "python",
   "pygments_lexer": "ipython3",
   "version": "3.4.3"
  }
 },
 "nbformat": 4,
 "nbformat_minor": 2
}
